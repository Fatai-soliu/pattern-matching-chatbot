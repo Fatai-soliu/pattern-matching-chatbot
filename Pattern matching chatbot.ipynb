{
 "cells": [
  {
   "cell_type": "code",
   "execution_count": 4,
   "id": "797a94cb",
   "metadata": {},
   "outputs": [],
   "source": [
    "# re rep regex. regex is also an exising package in earliest version of python"
   ]
  },
  {
   "cell_type": "code",
   "execution_count": 5,
   "id": "d1c7a9d6",
   "metadata": {},
   "outputs": [],
   "source": [
    "import re"
   ]
  },
  {
   "cell_type": "code",
   "execution_count": 8,
   "id": "82df0f8d",
   "metadata": {},
   "outputs": [],
   "source": [
    "r = \" (hi|hello|hey)[ ]* ([a-z]*)\""
   ]
  },
  {
   "cell_type": "code",
   "execution_count": 9,
   "id": "64eb27b2",
   "metadata": {},
   "outputs": [
    {
     "name": "stdout",
     "output_type": "stream",
     "text": [
      " (hi|hello|hey)[ ]* ([a-z]*)\n"
     ]
    }
   ],
   "source": [
    "print(r)"
   ]
  },
  {
   "cell_type": "code",
   "execution_count": 11,
   "id": "1c41c87a",
   "metadata": {},
   "outputs": [],
   "source": [
    "r = \" (hi|hello|hey)[ ]* ([a-z]*)\"\n",
    "re.match(r, 'Hello Roas', flags=re.IGNORECASE)"
   ]
  },
  {
   "cell_type": "code",
   "execution_count": 10,
   "id": "f1d26ddf",
   "metadata": {},
   "outputs": [],
   "source": [
    "re.match(r, \"hi ho, hi ho, it's off to work ....\", flags=re.IGNORECASE)"
   ]
  },
  {
   "cell_type": "code",
   "execution_count": 13,
   "id": "5f6b8fcb",
   "metadata": {},
   "outputs": [],
   "source": [
    "re.match(r, \"hey, what's up\", flags=re.IGNORECASE)"
   ]
  },
  {
   "cell_type": "code",
   "execution_count": 20,
   "id": "b566c3d2",
   "metadata": {},
   "outputs": [],
   "source": [
    "r = r\"[^a-z]*([y]o|[h']?ello|ok|hey|(good[ ])?(morn[gin']{0,3}|\"\\\n",
    "r\"afternoon|even[gin']{0,3}))[\\s,;:]{1,3}([a-z]{1,20})\""
   ]
  },
  {
   "cell_type": "code",
   "execution_count": 21,
   "id": "367ee7f3",
   "metadata": {},
   "outputs": [],
   "source": [
    "re_greeting = re.compile(r, flags=re.IGNORECASE)"
   ]
  },
  {
   "cell_type": "code",
   "execution_count": 22,
   "id": "19d4d38b",
   "metadata": {},
   "outputs": [
    {
     "data": {
      "text/plain": [
       "<re.Match object; span=(0, 10), match='Hello Rosa'>"
      ]
     },
     "execution_count": 22,
     "metadata": {},
     "output_type": "execute_result"
    }
   ],
   "source": [
    "re_greeting.match('Hello Rosa')"
   ]
  },
  {
   "cell_type": "code",
   "execution_count": 23,
   "id": "78085cdd",
   "metadata": {},
   "outputs": [
    {
     "data": {
      "text/plain": [
       "('Hello', None, None, 'Rosa')"
      ]
     },
     "execution_count": 23,
     "metadata": {},
     "output_type": "execute_result"
    }
   ],
   "source": [
    "re_greeting.match('Hello Rosa').groups()"
   ]
  },
  {
   "cell_type": "code",
   "execution_count": 24,
   "id": "9e58f708",
   "metadata": {},
   "outputs": [
    {
     "data": {
      "text/plain": [
       "<re.Match object; span=(0, 17), match='Good morning Rosa'>"
      ]
     },
     "execution_count": 24,
     "metadata": {},
     "output_type": "execute_result"
    }
   ],
   "source": [
    "re_greeting.match(\"Good morning Rosa\")"
   ]
  },
  {
   "cell_type": "code",
   "execution_count": 25,
   "id": "ffeb0cf4",
   "metadata": {},
   "outputs": [],
   "source": [
    "re_greeting.match(\"Good Manning Rosa\")"
   ]
  },
  {
   "cell_type": "code",
   "execution_count": 26,
   "id": "7f97395b",
   "metadata": {},
   "outputs": [
    {
     "data": {
      "text/plain": [
       "('Good evening', 'Good ', 'evening', 'Rosa')"
      ]
     },
     "execution_count": 26,
     "metadata": {},
     "output_type": "execute_result"
    }
   ],
   "source": [
    "re_greeting.match(\"Good evening Rosa Parks\").groups()"
   ]
  },
  {
   "cell_type": "code",
   "execution_count": 27,
   "id": "dd45510d",
   "metadata": {},
   "outputs": [
    {
     "data": {
      "text/plain": [
       "<re.Match object; span=(0, 16), match=\"Good Morn'n Rosa\">"
      ]
     },
     "execution_count": 27,
     "metadata": {},
     "output_type": "execute_result"
    }
   ],
   "source": [
    "re_greeting.match(\"Good Morn'n Rosa\")"
   ]
  },
  {
   "cell_type": "code",
   "execution_count": 28,
   "id": "3ae78d76",
   "metadata": {},
   "outputs": [
    {
     "data": {
      "text/plain": [
       "<re.Match object; span=(0, 16), match=\"Good Morn'n Rosa\">"
      ]
     },
     "execution_count": 28,
     "metadata": {},
     "output_type": "execute_result"
    }
   ],
   "source": [
    "re_greeting.match(\"Good Morn'n Rosa\")"
   ]
  },
  {
   "cell_type": "code",
   "execution_count": 29,
   "id": "51093897",
   "metadata": {},
   "outputs": [
    {
     "data": {
      "text/plain": [
       "<re.Match object; span=(0, 7), match='yo Rosa'>"
      ]
     },
     "execution_count": 29,
     "metadata": {},
     "output_type": "execute_result"
    }
   ],
   "source": [
    "re_greeting.match(\"yo Rosa\")"
   ]
  },
  {
   "cell_type": "code",
   "execution_count": 30,
   "id": "f17b5a25",
   "metadata": {},
   "outputs": [
    {
     "data": {
      "text/plain": [
       "('yo', None, None, 'Rosa')"
      ]
     },
     "execution_count": 30,
     "metadata": {},
     "output_type": "execute_result"
    }
   ],
   "source": [
    "re_greeting.match(\"yo Rosa\").groups()"
   ]
  },
  {
   "cell_type": "code",
   "execution_count": 31,
   "id": "fe178315",
   "metadata": {},
   "outputs": [],
   "source": [
    "#Create an output generator for our chatbot"
   ]
  },
  {
   "cell_type": "code",
   "execution_count": 32,
   "id": "aeacae45",
   "metadata": {},
   "outputs": [],
   "source": [
    "my_names = set(['rosa', 'rose', 'chatty', 'chatbot', 'bot', 'chatterbot'])"
   ]
  },
  {
   "cell_type": "code",
   "execution_count": 33,
   "id": "89e6381d",
   "metadata": {},
   "outputs": [],
   "source": [
    "curt_names = set(['hal', 'you', 'u'])"
   ]
  },
  {
   "cell_type": "code",
   "execution_count": 34,
   "id": "2ee6de37",
   "metadata": {},
   "outputs": [],
   "source": [
    "greeter_name = ''"
   ]
  },
  {
   "cell_type": "code",
   "execution_count": 35,
   "id": "59a1e05e",
   "metadata": {},
   "outputs": [
    {
     "name": "stdout",
     "output_type": "stream",
     "text": [
      "Soliu\n"
     ]
    }
   ],
   "source": [
    "match  = re_greeting.match(input())"
   ]
  },
  {
   "cell_type": "code",
   "execution_count": 36,
   "id": "fd4e8309",
   "metadata": {},
   "outputs": [],
   "source": [
    "if match:\n",
    "    at_name = match.groups()[-1]\n",
    "    if at_name in curt_names:\n",
    "        print(\"Good one.\")\n",
    "    elif at_name.lower() in my_names:\n",
    "        print(\"Hi {}, How are you?\".format(greeter_name))"
   ]
  },
  {
   "cell_type": "code",
   "execution_count": null,
   "id": "54d23399",
   "metadata": {},
   "outputs": [],
   "source": [
    "match(\"Hello Rosa\")"
   ]
  },
  {
   "cell_type": "code",
   "execution_count": null,
   "id": "7eee7f02",
   "metadata": {},
   "outputs": [],
   "source": []
  }
 ],
 "metadata": {
  "kernelspec": {
   "display_name": "Python 3 (ipykernel)",
   "language": "python",
   "name": "python3"
  },
  "language_info": {
   "codemirror_mode": {
    "name": "ipython",
    "version": 3
   },
   "file_extension": ".py",
   "mimetype": "text/x-python",
   "name": "python",
   "nbconvert_exporter": "python",
   "pygments_lexer": "ipython3",
   "version": "3.11.5"
  }
 },
 "nbformat": 4,
 "nbformat_minor": 5
}
